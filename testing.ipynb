{
 "cells": [
  {
   "cell_type": "code",
   "execution_count": 31,
   "metadata": {},
   "outputs": [],
   "source": [
    "import sys\n",
    "import os\n",
    "sys.path.append(os.getcwd())\n",
    "\n",
    "from ddc.learn.chart import Chart\n",
    "import tensorflow as tf\n",
    "import numpy as np\n",
    "from ddc.learn.util import open_dataset_fps, flatten_dataset_to_charts, select_channels"
   ]
  },
  {
   "cell_type": "code",
   "execution_count": 32,
   "metadata": {},
   "outputs": [
    {
     "name": "stdout",
     "output_type": "stream",
     "text": [
      "Loading data...\n"
     ]
    },
    {
     "ename": "ModuleNotFoundError",
     "evalue": "No module named 'chart'",
     "output_type": "error",
     "traceback": [
      "\u001b[0;31m---------------------------------------------------------------------------\u001b[0m",
      "\u001b[0;31mModuleNotFoundError\u001b[0m                       Traceback (most recent call last)",
      "Cell \u001b[0;32mIn[32], line 80\u001b[0m\n\u001b[1;32m     77\u001b[0m     net\u001b[38;5;241m.\u001b[39mprepare_train_batch(charts, \u001b[38;5;241m*\u001b[39m\u001b[38;5;241m*\u001b[39mbatch_config)\n\u001b[1;32m     79\u001b[0m \u001b[38;5;28;01mif\u001b[39;00m \u001b[38;5;18m__name__\u001b[39m \u001b[38;5;241m==\u001b[39m \u001b[38;5;124m\"\u001b[39m\u001b[38;5;124m__main__\u001b[39m\u001b[38;5;124m\"\u001b[39m:\n\u001b[0;32m---> 80\u001b[0m     \u001b[43mrun_diagnostic\u001b[49m\u001b[43m(\u001b[49m\u001b[43m)\u001b[49m\n",
      "Cell \u001b[0;32mIn[32], line 40\u001b[0m, in \u001b[0;36mrun_diagnostic\u001b[0;34m(batch_size, audio_context_radius)\u001b[0m\n\u001b[1;32m     37\u001b[0m valid_txt_fp \u001b[38;5;241m=\u001b[39m \u001b[38;5;124m\"\u001b[39m\u001b[38;5;124mddc/data/chart_onset/speirmix/mel80hop441/speirmix_valid.txt\u001b[39m\u001b[38;5;124m\"\u001b[39m\n\u001b[1;32m     38\u001b[0m test_txt_fp \u001b[38;5;241m=\u001b[39m \u001b[38;5;124m\"\u001b[39m\u001b[38;5;124mddc/data/chart_onset/speirmix/mel80hop441/speirmix_test.txt\u001b[39m\u001b[38;5;124m\"\u001b[39m\n\u001b[0;32m---> 40\u001b[0m train_data, valid_data, test_data \u001b[38;5;241m=\u001b[39m \u001b[43mopen_dataset_fps\u001b[49m\u001b[43m(\u001b[49m\u001b[43mtrain_txt_fp\u001b[49m\u001b[43m,\u001b[49m\u001b[43m \u001b[49m\u001b[43mvalid_txt_fp\u001b[49m\u001b[43m,\u001b[49m\u001b[43m \u001b[49m\u001b[43mtest_txt_fp\u001b[49m\u001b[43m)\u001b[49m\n\u001b[1;32m     42\u001b[0m \u001b[38;5;28mprint\u001b[39m(\u001b[38;5;124m\"\u001b[39m\u001b[38;5;130;01m\\n\u001b[39;00m\u001b[38;5;124mDataset Overview:\u001b[39m\u001b[38;5;124m\"\u001b[39m)\n\u001b[1;32m     43\u001b[0m \u001b[38;5;28mprint\u001b[39m(\u001b[38;5;124mf\u001b[39m\u001b[38;5;124m\"\u001b[39m\u001b[38;5;124mNumber of songs in dataset: \u001b[39m\u001b[38;5;132;01m{\u001b[39;00m\u001b[38;5;28mlen\u001b[39m(train_data)\u001b[38;5;132;01m}\u001b[39;00m\u001b[38;5;124m\"\u001b[39m)\n",
      "File \u001b[0;32m~/Documents/UCSD_UNGRAD/Fall2024/DSC190/test_for_project/ddc_research_fork/ddc/learn/util.py:60\u001b[0m, in \u001b[0;36mopen_dataset_fps\u001b[0;34m(*args)\u001b[0m\n\u001b[1;32m     58\u001b[0m     \u001b[38;5;28;01mfor\u001b[39;00m song_fp \u001b[38;5;129;01min\u001b[39;00m song_fps:\n\u001b[1;32m     59\u001b[0m         \u001b[38;5;28;01mwith\u001b[39;00m \u001b[38;5;28mopen\u001b[39m(song_fp, \u001b[38;5;124m'\u001b[39m\u001b[38;5;124mrb\u001b[39m\u001b[38;5;124m'\u001b[39m) \u001b[38;5;28;01mas\u001b[39;00m f:\n\u001b[0;32m---> 60\u001b[0m             dataset\u001b[38;5;241m.\u001b[39mappend(\u001b[43mpickle\u001b[49m\u001b[38;5;241;43m.\u001b[39;49m\u001b[43mload\u001b[49m\u001b[43m(\u001b[49m\u001b[43mf\u001b[49m\u001b[43m)\u001b[49m)\n\u001b[1;32m     61\u001b[0m     datasets\u001b[38;5;241m.\u001b[39mappend(dataset)\n\u001b[1;32m     62\u001b[0m \u001b[38;5;28;01mreturn\u001b[39;00m datasets[\u001b[38;5;241m0\u001b[39m] \u001b[38;5;28;01mif\u001b[39;00m \u001b[38;5;28mlen\u001b[39m(datasets) \u001b[38;5;241m==\u001b[39m \u001b[38;5;241m1\u001b[39m \u001b[38;5;28;01melse\u001b[39;00m datasets\n",
      "\u001b[0;31mModuleNotFoundError\u001b[0m: No module named 'chart'"
     ]
    }
   ],
   "source": [
    "class DiagnosticNet:\n",
    "    def __init__(self, batch_size):\n",
    "        self.batch_size = batch_size\n",
    "\n",
    "    def prepare_train_batch(self, charts, **kwargs):\n",
    "        \"\"\"Wrapper around the original prepare_train_batch to print shapes\"\"\"\n",
    "        # Create a random batch\n",
    "        feats_audio, feats_other, targets, target_weights = charts[0].prepare_train_batch(\n",
    "            [charts[0]], \n",
    "            **kwargs\n",
    "        )\n",
    "        \n",
    "        print(\"\\nDiagnostic Batch Information:\")\n",
    "        print(f\"Audio Features Shape: {feats_audio.shape}\")\n",
    "        print(f\"Other Features Shape: {feats_other.shape}\")\n",
    "        print(f\"Targets Shape: {targets.shape}\")\n",
    "        print(f\"Target Weights Shape: {target_weights.shape}\")\n",
    "        \n",
    "        print(\"\\nData Statistics:\")\n",
    "        print(f\"Audio Features - Mean: {np.mean(feats_audio):.4f}, Std: {np.std(feats_audio):.4f}\")\n",
    "        print(f\"Other Features - Mean: {np.mean(feats_other):.4f}, Std: {np.std(feats_other):.4f}\")\n",
    "        print(f\"Targets - Mean: {np.mean(targets):.4f} (Class balance)\")\n",
    "        print(f\"Target Weights - Mean: {np.mean(target_weights):.4f}\")\n",
    "        \n",
    "        # Look at a single example in detail\n",
    "        print(\"\\nSingle Example Details:\")\n",
    "        print(f\"Audio time steps: {feats_audio.shape[2]}\")\n",
    "        print(f\"Audio frequency bands: {feats_audio.shape[3]}\")\n",
    "        print(f\"Audio channels: {feats_audio.shape[4]}\")\n",
    "        \n",
    "        return feats_audio, feats_other, targets, target_weights\n",
    "\n",
    "def run_diagnostic(batch_size=256, audio_context_radius=7):\n",
    "    \"\"\"Run a complete diagnostic on the dataset\"\"\"\n",
    "    print(\"Loading data...\")\n",
    "    train_txt_fp = \"ddc/data/chart_onset/speirmix/mel80hop441/speirmix_train.txt\"\n",
    "    valid_txt_fp = \"ddc/data/chart_onset/speirmix/mel80hop441/speirmix_valid.txt\"\n",
    "    test_txt_fp = \"ddc/data/chart_onset/speirmix/mel80hop441/speirmix_test.txt\"\n",
    "    \n",
    "    train_data, valid_data, test_data = open_dataset_fps(train_txt_fp, valid_txt_fp, test_txt_fp)\n",
    "    \n",
    "    print(\"\\nDataset Overview:\")\n",
    "    print(f\"Number of songs in dataset: {len(train_data)}\")\n",
    "    \n",
    "    # Look at first song's metadata\n",
    "    first_song = train_data[0]\n",
    "    print(\"\\nExample Song Metadata:\")\n",
    "    print(f\"Metadata: {first_song[0]}\")\n",
    "    print(f\"Features shape: {first_song[1].shape}\")\n",
    "    print(f\"Number of charts: {len(first_song[2])}\")\n",
    "    \n",
    "    # Flatten into charts\n",
    "    charts = flatten_dataset_to_charts(train_data)\n",
    "    print(f\"\\nTotal number of charts: {len(charts)}\")\n",
    "    \n",
    "    # Create diagnostic network\n",
    "    net = DiagnosticNet(batch_size)\n",
    "    \n",
    "    # Create a sample batch with default parameters\n",
    "    print(\"\\nCreating sample batch...\")\n",
    "    feats_config = {\n",
    "        'time_context_radius': audio_context_radius,\n",
    "    }\n",
    "    \n",
    "    train_config = {\n",
    "        'randomize_charts': False,\n",
    "        'exclude_onset_neighbors': 0,\n",
    "        'exclude_pre_onsets': False,\n",
    "        'exclude_post_onsets': False,\n",
    "        'include_onsets': True\n",
    "    }\n",
    "    \n",
    "    batch_config = feats_config.copy()\n",
    "    batch_config.update(train_config)\n",
    "    \n",
    "    # Get a batch and print diagnostics\n",
    "    net.prepare_train_batch(charts, **batch_config)\n",
    "\n",
    "if __name__ == \"__main__\":\n",
    "    run_diagnostic()"
   ]
  },
  {
   "cell_type": "code",
   "execution_count": null,
   "metadata": {},
   "outputs": [],
   "source": []
  }
 ],
 "metadata": {
  "kernelspec": {
   "display_name": "ddc_research",
   "language": "python",
   "name": "python3"
  },
  "language_info": {
   "codemirror_mode": {
    "name": "ipython",
    "version": 3
   },
   "file_extension": ".py",
   "mimetype": "text/x-python",
   "name": "python",
   "nbconvert_exporter": "python",
   "pygments_lexer": "ipython3",
   "version": "3.10.8"
  }
 },
 "nbformat": 4,
 "nbformat_minor": 2
}
